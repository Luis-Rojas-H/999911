{
  "nbformat": 4,
  "nbformat_minor": 0,
  "metadata": {
    "colab": {
      "private_outputs": true,
      "provenance": [],
      "include_colab_link": true
    },
    "kernelspec": {
      "name": "python3",
      "display_name": "Python 3"
    },
    "language_info": {
      "name": "python"
    }
  },
  "cells": [
    {
      "cell_type": "markdown",
      "metadata": {
        "id": "view-in-github",
        "colab_type": "text"
      },
      "source": [
        "<a href=\"https://colab.research.google.com/github/Luis-Rojas-H/999911/blob/master/Conteo_de_dinero_.ipynb\" target=\"_parent\"><img src=\"https://colab.research.google.com/assets/colab-badge.svg\" alt=\"Open In Colab\"/></a>"
      ]
    },
    {
      "cell_type": "code",
      "metadata": {
        "id": "45xgUi2tZTGX"
      },
      "source": [
        "import os                         # <--- acceso a ficheros\n",
        "import numpy as np                # <---- op. matemáticas\n",
        "from skimage.io import imread     # <---- leer imágenes\n",
        "import matplotlib.pyplot as plt   # <---- mostrar las imágenes\n",
        "from skimage.filters import threshold_otsu, threshold_local # <-- umbralizar\n",
        "from skimage.measure import label, regionprops              # <-- segmentar por regiones\n",
        "from skimage.transform import rescale                       # <-- reducir tam. imagen\n",
        "from skimage.exposure  import equalize_hist                 # <-- ecualizar\n",
        "from termcolor import colored                               # <-- dar color a regiones"
      ],
      "execution_count": null,
      "outputs": []
    },
    {
      "cell_type": "markdown",
      "metadata": {
        "id": "PLjrIBxJZKSY"
      },
      "source": [
        "### Obtener los datos"
      ]
    },
    {
      "cell_type": "code",
      "metadata": {
        "id": "1zRJJfIaYtw7"
      },
      "source": [
        "!gdown 1trBZlOCo9O4AV_syWEL46cfHoagTmJ-p\n",
        "!unzip img.zip\n",
        "imagenes = os.listdir('img')"
      ],
      "execution_count": null,
      "outputs": []
    },
    {
      "cell_type": "markdown",
      "metadata": {
        "id": "m66xcq4FDxS9"
      },
      "source": [
        "### Preprocesar la imágen, umbralizar y etiquetar componentes conectados"
      ]
    },
    {
      "cell_type": "code",
      "metadata": {
        "id": "ixz22Rwe705f"
      },
      "source": [
        "from scipy import ndimage\n",
        "from skimage.segmentation import watershed\n",
        "from skimage.feature import peak_local_max"
      ],
      "execution_count": null,
      "outputs": []
    },
    {
      "cell_type": "code",
      "metadata": {
        "id": "YkI4r6HdZCDU"
      },
      "source": [
        "#@title Default title text { run: \"auto\" }\n",
        "im_id = 0 #@param {type:\"slider\", min:0, max:8, step:1}\n",
        "\n",
        "im_filename = imagenes[im_id]\n",
        "im_path = os.path.join('img',im_filename)\n",
        "im = imread(im_path)\n",
        "im_grayscale = im[:,:,0]\n",
        "im_grayscale -= im_grayscale.min()\n",
        "im_grayscale = im_grayscale/im_grayscale.max()\n",
        "th = threshold_otsu(im_grayscale)\n",
        "im_th = im_grayscale>th\n",
        "im_labeled = label(im_th)\n",
        "\n",
        "#Mostrar imagenes\n",
        "plt.figure(figsize=(20,5))\n",
        "plt.subplot(1,4,1)\n",
        "plt.title(\"Imagen de entrada\")\n",
        "plt.imshow(im)\n",
        "plt.subplot(1,4,2)\n",
        "plt.title(\"Imagen Umbralizada\")\n",
        "plt.imshow(im_th)\n",
        "plt.subplot(1,4,3)\n",
        "plt.title(\"Imagen watershed\")\n",
        "distance = ndimage.distance_transform_edt(im_th)\n",
        "local_maxi = peak_local_max(distance, footprint=np.ones((3, 3)),labels=im_th)\n",
        "\n",
        "# Create a markers array with the same shape as im_th\n",
        "markers = np.zeros_like(im_th)\n",
        "# Set the markers based on the coordinates in local_maxi\n",
        "markers[local_maxi[:, 0], local_maxi[:, 1]] = 1\n",
        "markers = ndimage.label(markers)[0]\n",
        "# Now markers has the same shape as im_th and contains the correct labels\n",
        "\n",
        "labels = watershed(-distance, markers, mask=im_th)\n",
        "plt.imshow(labels, cmap='nipy_spectral')\n",
        "plt.subplot(1,4,4)\n",
        "plt.title(\"Componentes conectados\")\n",
        "plt.imshow(im_labeled, cmap='nipy_spectral')"
      ],
      "execution_count": null,
      "outputs": []
    },
    {
      "cell_type": "code",
      "metadata": {
        "id": "wdt2m3aMvlph"
      },
      "source": [
        "from skimage.measure import regionprops\n",
        "\n",
        "a_min, a_max = np.pi*80**2, np.pi*150**2\n",
        "\n",
        "\n",
        "for r in regionprops(im_labeled):\n",
        "\n",
        "  print(\"Area: {}\".format(r.area))\n",
        "  if (r.area < a_min or r.area > a_max):\n",
        "    print(\"No pasa el filtro de area\")\n",
        "  else:\n",
        "    print(\"Procesando la region!\")\n",
        "    print(\"Excentricidad de la region es {}\".format(r.eccentricity))\n",
        "    if r.eccentricity < 0.5:\n",
        "      print(\"Paso el filtro de circularidad\")\n",
        "      min_row, min_col, max_row, max_col = r.bbox\n",
        "      plt.figure()\n",
        "      plt.imshow(im[min_row:max_row, min_col:max_col])\n",
        "      plt.show()\n",
        "      print(im[min_row:max_row, min_col:max_col].mean(axis=0).mean(axis=0))\n",
        "\n",
        "\n",
        "  print(\"=============\")"
      ],
      "execution_count": null,
      "outputs": []
    },
    {
      "cell_type": "code",
      "metadata": {
        "id": "o7FTguZQ9mC_"
      },
      "source": [
        "from skimage.measure import regionprops\n",
        "\n",
        "a_min, a_max = np.pi*80**2, np.pi*150**2\n",
        "\n",
        "monto = 0\n",
        "\n",
        "for r in regionprops(im_labeled):\n",
        "\n",
        "  # print(\"Area: {}\".format(r.area))\n",
        "  if (r.area < a_min or r.area > a_max):\n",
        "    # print(\"No pasa el filtro de area\")\n",
        "    pass\n",
        "  else:\n",
        "    # print(\"Procesando la region!\")\n",
        "    # print(\"Excentricidad de la region es {}\".format(r.eccentricity))\n",
        "    if r.eccentricity < 0.5:\n",
        "      print(r.area)\n",
        "      print(\"Excentricidad de la region es {}\".format(r.eccentricity))\n",
        "      # print(\"Paso el filtro de circularidad\")\n",
        "      min_row, min_col, max_row, max_col = r.bbox\n",
        "      plt.figure()\n",
        "      plt.imshow(im[min_row:max_row, min_col:max_col])\n",
        "      plt.show()\n",
        "      print(im[min_row:max_row, min_col:max_col].mean(axis=0).mean(axis=0))\n",
        "\n",
        "      if (r.area >= 26000 and r.area <= 30000):\n",
        "        monto += 0.10\n",
        "      elif (r.area >= 30000 and r.area <= 33000):\n",
        "        monto += 0.50\n",
        "      elif (r.area >= 42000):\n",
        "        monto += 1\n",
        "\n",
        "\n",
        "  print(\"=============\")\n",
        "print(\"Monto total:\", monto)"
      ],
      "execution_count": null,
      "outputs": []
    },
    {
      "cell_type": "code",
      "metadata": {
        "id": "kRU74Y1D-LaY"
      },
      "source": [],
      "execution_count": null,
      "outputs": []
    }
  ]
}